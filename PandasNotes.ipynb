{
  "nbformat": 4,
  "nbformat_minor": 0,
  "metadata": {
    "colab": {
      "provenance": [],
      "authorship_tag": "ABX9TyMeE1IjBt8+JB/I0Zu8zN/K",
      "include_colab_link": true
    },
    "kernelspec": {
      "name": "python3",
      "display_name": "Python 3"
    },
    "language_info": {
      "name": "python"
    }
  },
  "cells": [
    {
      "cell_type": "markdown",
      "metadata": {
        "id": "view-in-github",
        "colab_type": "text"
      },
      "source": [
        "<a href=\"https://colab.research.google.com/github/Sona-Kolanu/PandasNotes.py/blob/main/PandasNotes.ipynb\" target=\"_parent\"><img src=\"https://colab.research.google.com/assets/colab-badge.svg\" alt=\"Open In Colab\"/></a>"
      ]
    },
    {
      "cell_type": "markdown",
      "source": [
        "# **Python Notes**\n",
        "\n",
        "Concise notes for quick reference on pandas and matplotlib.\n",
        "\n",
        "Topics Covered:\n",
        "\n",
        "\n",
        "1.   Pandas: DataFrames,Series and basic operations\n",
        "2.   Matplotlib: Basic plots and visualizations\n",
        "\n"
      ],
      "metadata": {
        "id": "s66NpqGRS0_D"
      }
    },
    {
      "cell_type": "code",
      "source": [
        "import pandas as pd\n",
        "s=pd.Series([1,2,3,4])\n",
        "print(s)"
      ],
      "metadata": {
        "colab": {
          "base_uri": "https://localhost:8080/"
        },
        "id": "eCQtDuJHULMG",
        "outputId": "b887b767-a773-4100-c762-68f07b2dd4b4"
      },
      "execution_count": 1,
      "outputs": [
        {
          "output_type": "stream",
          "name": "stdout",
          "text": [
            "0    1\n",
            "1    2\n",
            "2    3\n",
            "3    4\n",
            "dtype: int64\n"
          ]
        }
      ]
    },
    {
      "cell_type": "code",
      "execution_count": 2,
      "metadata": {
        "colab": {
          "base_uri": "https://localhost:8080/"
        },
        "id": "ouCJeP-c_DZa",
        "outputId": "8614b0be-a267-4380-cac5-e5db62a0dabe"
      },
      "outputs": [
        {
          "output_type": "stream",
          "name": "stdout",
          "text": [
            "        Name  Age       Place\n",
            "0       Sona   23   Hyderabad\n",
            "1     Sreeja   23      Nirmal\n",
            "2      Kavya   21     Khammam\n",
            "3  Aishwarya   20  vijayawada\n",
            "4     Akhila   25      Guntur\n",
            "5  Chandhana   18    Nalgonda\n",
            "<class 'pandas.core.frame.DataFrame'>\n"
          ]
        }
      ],
      "source": [
        "import pandas as pd\n",
        "data={\n",
        "    \"Name\":[\"Sona\",\"Sreeja\",\"Kavya\",\"Aishwarya\",\"Akhila\",\"Chandhana\"],\n",
        "    \"Age\":[23,23,21,20,25,18],\n",
        "    \"Place\":[\"Hyderabad\",\"Nirmal\",\"Khammam\",\"vijayawada\",\"Guntur\",\"Nalgonda\"]\n",
        "}\n",
        "df=pd.DataFrame(data)\n",
        "print(df)\n",
        "print(type(df))"
      ]
    },
    {
      "cell_type": "markdown",
      "source": [
        "#functions:\n",
        "df.head()--> first 5 rows\n",
        "\n",
        "df.tail()--> last 5 rows\n",
        "\n",
        "df.shape--> no.of rows and columns\n",
        "\n",
        "df.info()--> quick summary of the dataframe(it gives columns names,data type,memory usage,non-null values,no.of rows/columns)\n",
        "\n",
        "df.describe()-->gives statistical summary of numeric columns"
      ],
      "metadata": {
        "id": "FyghFrDiAG-V"
      }
    },
    {
      "cell_type": "code",
      "source": [
        "df.head()\n",
        "df.tail()\n",
        "df.shape\n",
        "df.info()\n",
        "df.describe()\n",
        "print(df)"
      ],
      "metadata": {
        "colab": {
          "base_uri": "https://localhost:8080/"
        },
        "id": "ByMZ3dOhVQA9",
        "outputId": "91b47eca-9522-4230-96db-0af5d2edbacc"
      },
      "execution_count": 3,
      "outputs": [
        {
          "output_type": "stream",
          "name": "stdout",
          "text": [
            "<class 'pandas.core.frame.DataFrame'>\n",
            "RangeIndex: 6 entries, 0 to 5\n",
            "Data columns (total 3 columns):\n",
            " #   Column  Non-Null Count  Dtype \n",
            "---  ------  --------------  ----- \n",
            " 0   Name    6 non-null      object\n",
            " 1   Age     6 non-null      int64 \n",
            " 2   Place   6 non-null      object\n",
            "dtypes: int64(1), object(2)\n",
            "memory usage: 276.0+ bytes\n",
            "        Name  Age       Place\n",
            "0       Sona   23   Hyderabad\n",
            "1     Sreeja   23      Nirmal\n",
            "2      Kavya   21     Khammam\n",
            "3  Aishwarya   20  vijayawada\n",
            "4     Akhila   25      Guntur\n",
            "5  Chandhana   18    Nalgonda\n"
          ]
        }
      ]
    },
    {
      "cell_type": "markdown",
      "source": [
        "# **Data Selection and Indexing**\n",
        "\n",
        "\n",
        "\n",
        "\n",
        "\n",
        "\n",
        "---\n",
        "\n",
        "\n"
      ],
      "metadata": {
        "id": "_UnqUWXBUqtN"
      }
    },
    {
      "cell_type": "code",
      "source": [
        "print(df[\"Name\"])\n",
        "print(type(df[\"Name\"]))\n",
        "print(df[[\"Name\",\"Place\"]])\n",
        "print(df[\"Name\"][1])\n",
        "print(df.loc[1])\n",
        "df.loc[1,\"Age\"]=22\n",
        "print(df.iloc[0:2])\n",
        "print(df.iloc[2,1])\n",
        "\n",
        "#iloc works with numbers only-------> end is exclusive and start with 0-based\n",
        "#loc works with names,booleans,slices ----> end is inclusive and start with actual index labels"
      ],
      "metadata": {
        "colab": {
          "base_uri": "https://localhost:8080/"
        },
        "id": "g0o6LwdgAYB-",
        "outputId": "e059de5e-2292-42a0-88bf-c0f64f261ca0"
      },
      "execution_count": 4,
      "outputs": [
        {
          "output_type": "stream",
          "name": "stdout",
          "text": [
            "0         Sona\n",
            "1       Sreeja\n",
            "2        Kavya\n",
            "3    Aishwarya\n",
            "4       Akhila\n",
            "5    Chandhana\n",
            "Name: Name, dtype: object\n",
            "<class 'pandas.core.series.Series'>\n",
            "        Name       Place\n",
            "0       Sona   Hyderabad\n",
            "1     Sreeja      Nirmal\n",
            "2      Kavya     Khammam\n",
            "3  Aishwarya  vijayawada\n",
            "4     Akhila      Guntur\n",
            "5  Chandhana    Nalgonda\n",
            "Sreeja\n",
            "Name     Sreeja\n",
            "Age          23\n",
            "Place    Nirmal\n",
            "Name: 1, dtype: object\n",
            "     Name  Age      Place\n",
            "0    Sona   23  Hyderabad\n",
            "1  Sreeja   22     Nirmal\n",
            "21\n"
          ]
        }
      ]
    },
    {
      "cell_type": "code",
      "source": [
        "print(df.loc[df[\"Age\"]>22])\n",
        "#or\n",
        "print(df[df[\"Age\"]>22])\n",
        "print(df[df[\"Place\"]==\"vijayawada\"])\n",
        "print(df[(df[\"Name\"]==\"Sona\") | (df[\"Age\"]==22)])"
      ],
      "metadata": {
        "colab": {
          "base_uri": "https://localhost:8080/"
        },
        "id": "2H7q2KQXHpAr",
        "outputId": "015ac90f-59d6-45d8-8d9d-3e4002f3ab4c"
      },
      "execution_count": 5,
      "outputs": [
        {
          "output_type": "stream",
          "name": "stdout",
          "text": [
            "     Name  Age      Place\n",
            "0    Sona   23  Hyderabad\n",
            "4  Akhila   25     Guntur\n",
            "     Name  Age      Place\n",
            "0    Sona   23  Hyderabad\n",
            "4  Akhila   25     Guntur\n",
            "        Name  Age       Place\n",
            "3  Aishwarya   20  vijayawada\n",
            "     Name  Age      Place\n",
            "0    Sona   23  Hyderabad\n",
            "1  Sreeja   22     Nirmal\n"
          ]
        }
      ]
    },
    {
      "cell_type": "markdown",
      "source": [
        " # **DATA CLEANING**\n",
        "\n",
        "---\n",
        "\n",
        "\n",
        "Data cleaning means fixing the NaN values,duplicates,wrong datatypes and unwanted data in datasets"
      ],
      "metadata": {
        "id": "70AutFK8IKOb"
      }
    },
    {
      "cell_type": "code",
      "source": [
        "import pandas as pd\n",
        "data = {\n",
        "    \"Name\": [\"Sona\", \"Rahul\", \"Priya\", None],\n",
        "    \"Age\": [23, None, 22, 28],\n",
        "    \"City\": [\"Hyderabad\", \"Vizag\", None, \"Hyderabad\"]\n",
        "}\n",
        "\n",
        "df = pd.DataFrame(data)\n",
        "print(\"Original Data:\\n\", df)"
      ],
      "metadata": {
        "colab": {
          "base_uri": "https://localhost:8080/"
        },
        "id": "5xVzs5XPIQTE",
        "outputId": "afd6d9c6-f0be-4873-b946-ccee2443ac27"
      },
      "execution_count": 6,
      "outputs": [
        {
          "output_type": "stream",
          "name": "stdout",
          "text": [
            "Original Data:\n",
            "     Name   Age       City\n",
            "0   Sona  23.0  Hyderabad\n",
            "1  Rahul   NaN      Vizag\n",
            "2  Priya  22.0       None\n",
            "3   None  28.0  Hyderabad\n"
          ]
        }
      ]
    },
    {
      "cell_type": "markdown",
      "source": [
        "Finding Missing Value"
      ],
      "metadata": {
        "id": "8WiIwn7UKoM2"
      }
    },
    {
      "cell_type": "code",
      "source": [
        "print(df.isnull())  #or isna()---->True if value is NaN\n",
        "print(df.isnull().sum()) #Count missing per column"
      ],
      "metadata": {
        "colab": {
          "base_uri": "https://localhost:8080/"
        },
        "id": "5Oh190LmKAVS",
        "outputId": "c3261563-310a-4af6-f664-6b63c7f9dd43"
      },
      "execution_count": 7,
      "outputs": [
        {
          "output_type": "stream",
          "name": "stdout",
          "text": [
            "    Name    Age   City\n",
            "0  False  False  False\n",
            "1  False   True  False\n",
            "2  False  False   True\n",
            "3   True  False  False\n",
            "Name    1\n",
            "Age     1\n",
            "City    1\n",
            "dtype: int64\n"
          ]
        }
      ]
    },
    {
      "cell_type": "markdown",
      "source": [
        "Filling Missing Value"
      ],
      "metadata": {
        "id": "d4iRoINIKs8B"
      }
    },
    {
      "cell_type": "code",
      "source": [
        "df[\"Name\"]=df[\"Name\"].fillna(\"Unknown\")\n",
        "df[\"Age\"]=df[\"Age\"].fillna(df[\"Age\"].mean())\n",
        "df[\"City\"]=df[\"City\"].fillna(df[\"City\"].mode()[0])  #mode-->frequent city,always use [0]to fill missing values — it avoids ambiguity and works even when there are multiple modes.\n",
        "print(df)"
      ],
      "metadata": {
        "colab": {
          "base_uri": "https://localhost:8080/"
        },
        "id": "GQ6gsdmpKxT1",
        "outputId": "096ecf48-d362-487b-977b-3cb8785ab7ac"
      },
      "execution_count": 8,
      "outputs": [
        {
          "output_type": "stream",
          "name": "stdout",
          "text": [
            "      Name        Age       City\n",
            "0     Sona  23.000000  Hyderabad\n",
            "1    Rahul  24.333333      Vizag\n",
            "2    Priya  22.000000  Hyderabad\n",
            "3  Unknown  28.000000  Hyderabad\n"
          ]
        }
      ]
    },
    {
      "cell_type": "code",
      "source": [
        "df_drop=df.dropna()# removes the rows that containing any NaN\n",
        "print(df_drop)"
      ],
      "metadata": {
        "colab": {
          "base_uri": "https://localhost:8080/"
        },
        "id": "nPB3DEIuMHN5",
        "outputId": "4c404f01-c555-49ea-8eb2-f98e20192c14"
      },
      "execution_count": 9,
      "outputs": [
        {
          "output_type": "stream",
          "name": "stdout",
          "text": [
            "      Name        Age       City\n",
            "0     Sona  23.000000  Hyderabad\n",
            "1    Rahul  24.333333      Vizag\n",
            "2    Priya  22.000000  Hyderabad\n",
            "3  Unknown  28.000000  Hyderabad\n"
          ]
        }
      ]
    },
    {
      "cell_type": "markdown",
      "source": [
        "Remove Duplicates"
      ],
      "metadata": {
        "id": "IAp2iWxmMbuK"
      }
    },
    {
      "cell_type": "code",
      "source": [
        "df2=pd.DataFrame({\n",
        "    \"name\":[\"Sona\",\"Sreeja\",\"Kavya\",\"Sreeja\",\"Kavya\",\"Sona\"],\n",
        "    \"age\":[23,23,21,20,25,18]\n",
        "})\n",
        "print(df2)\n",
        "df2=df2.drop_duplicates()\n",
        "#or\n",
        "df2=df2.drop_duplicates(subset=\"name\")\n",
        "print(df2)"
      ],
      "metadata": {
        "colab": {
          "base_uri": "https://localhost:8080/"
        },
        "id": "Sj5QJgnTMi10",
        "outputId": "5f3634da-b4b4-4421-d726-514232c96c84"
      },
      "execution_count": 10,
      "outputs": [
        {
          "output_type": "stream",
          "name": "stdout",
          "text": [
            "     name  age\n",
            "0    Sona   23\n",
            "1  Sreeja   23\n",
            "2   Kavya   21\n",
            "3  Sreeja   20\n",
            "4   Kavya   25\n",
            "5    Sona   18\n",
            "     name  age\n",
            "0    Sona   23\n",
            "1  Sreeja   23\n",
            "2   Kavya   21\n"
          ]
        }
      ]
    },
    {
      "cell_type": "markdown",
      "source": [
        "Change data types"
      ],
      "metadata": {
        "id": "Rvstm_euNlY9"
      }
    },
    {
      "cell_type": "code",
      "source": [
        "df2[\"age\"]=df2[\"age\"].astype(int) #changing the data type of the age column to int.\n",
        "print(df2.dtypes) #Use type() → to know what kind of Python object you’re dealing with.\n",
        "                  #Use .dtypes → to inspect data types of DataFrame columns."
      ],
      "metadata": {
        "colab": {
          "base_uri": "https://localhost:8080/"
        },
        "id": "qN3clCMtNoAR",
        "outputId": "a58801ea-d9c1-4008-cf91-bf1c3bdab9c1"
      },
      "execution_count": 11,
      "outputs": [
        {
          "output_type": "stream",
          "name": "stdout",
          "text": [
            "name    object\n",
            "age      int64\n",
            "dtype: object\n"
          ]
        }
      ]
    },
    {
      "cell_type": "markdown",
      "source": [
        "Example for practice"
      ],
      "metadata": {
        "id": "2Tuv6Dj2PxAH"
      }
    },
    {
      "cell_type": "code",
      "source": [
        "import pandas as pd\n",
        "import numpy as np\n",
        "\n",
        "data = {\n",
        "    \"Name\": [\"Anu\", \"Raj\", \"Anu\", None, \"Teja\", \"Kiran\", \"Raj\", \"Ravi\"],\n",
        "    \"Age\": [25, \"30\", None, 28, \"26\", 30, None, \"Twenty\"],\n",
        "    \"City\": [\"Chennai\", \"Hyderabad\", \"Chennai\", \"Hyderabad\", None, \"Vizag\", \"Hyderabad\", \"Vizag\"],\n",
        "    \"Salary\": [55000, None, 55000, None, 40000, 70000, 60000, None]\n",
        "}\n",
        "\n",
        "df = pd.DataFrame(data)\n",
        "print(df)"
      ],
      "metadata": {
        "colab": {
          "base_uri": "https://localhost:8080/"
        },
        "id": "w3ar2WZ3Pztw",
        "outputId": "d6fcb77d-283c-4ce9-cced-3f2ee0257a54"
      },
      "execution_count": 12,
      "outputs": [
        {
          "output_type": "stream",
          "name": "stdout",
          "text": [
            "    Name     Age       City   Salary\n",
            "0    Anu      25    Chennai  55000.0\n",
            "1    Raj      30  Hyderabad      NaN\n",
            "2    Anu    None    Chennai  55000.0\n",
            "3   None      28  Hyderabad      NaN\n",
            "4   Teja      26       None  40000.0\n",
            "5  Kiran      30      Vizag  70000.0\n",
            "6    Raj    None  Hyderabad  60000.0\n",
            "7   Ravi  Twenty      Vizag      NaN\n"
          ]
        }
      ]
    },
    {
      "cell_type": "code",
      "source": [
        "df[\"Name\"]=df[\"Name\"].fillna(\"Unkown\")\n",
        "#If Pandas finds a value it cannot convert to a number (like \"twenty\" or \"abc\"), instead of throwing an error,\n",
        "#it forces it to become NaN (missing value).\n",
        "#coerce\" = force conversion, even if it means making some values missing.\n",
        "df[\"Age\"]=pd.to_numeric(df[\"Age\"], errors=\"coerce\")\n",
        "df[\"Age\"]=df[\"Age\"].fillna(df[\"Age\"].mean())\n",
        "df[\"City\"]=df[\"City\"].fillna(\"Unknown\")\n",
        "df[\"Salary\"]=df[\"Salary\"].fillna(df[\"Salary\"].median())\n",
        "df.drop_duplicates()\n",
        "df[\"Salary\"]=df[\"Salary\"].astype(int)\n",
        "print(df)"
      ],
      "metadata": {
        "colab": {
          "base_uri": "https://localhost:8080/"
        },
        "id": "_H_PhJc0P59p",
        "outputId": "b25035a9-186a-4d10-d4aa-efe00e2657b7"
      },
      "execution_count": 13,
      "outputs": [
        {
          "output_type": "stream",
          "name": "stdout",
          "text": [
            "     Name   Age       City  Salary\n",
            "0     Anu  25.0    Chennai   55000\n",
            "1     Raj  30.0  Hyderabad   55000\n",
            "2     Anu  27.8    Chennai   55000\n",
            "3  Unkown  28.0  Hyderabad   55000\n",
            "4    Teja  26.0    Unknown   40000\n",
            "5   Kiran  30.0      Vizag   70000\n",
            "6     Raj  27.8  Hyderabad   60000\n",
            "7    Ravi  27.8      Vizag   55000\n"
          ]
        }
      ]
    },
    {
      "cell_type": "markdown",
      "source": [
        "# **DATA MANIPULATION**\n",
        "\n",
        "\n",
        "---\n",
        "\n",
        "\n",
        "**SORTING AND APPLYING**\n",
        "\n",
        "We can sort the data by column values or by index"
      ],
      "metadata": {
        "id": "6wwY1PULTxz2"
      }
    },
    {
      "cell_type": "code",
      "source": [
        "import pandas as pd\n",
        "\n",
        "data = {\n",
        "    \"Name\": [\"Anu\", \"Raj\", \"Teja\", \"Kiran\"],\n",
        "    \"Age\": [25, 30, 26, 28],\n",
        "    \"Salary\": [55000, 60000, 40000, 70000]\n",
        "}\n",
        "\n",
        "df = pd.DataFrame(data)\n",
        "print(df)"
      ],
      "metadata": {
        "colab": {
          "base_uri": "https://localhost:8080/"
        },
        "id": "O8mGC8LUT39K",
        "outputId": "3a400a70-4d6c-4a64-c8bc-556fbe8cd317"
      },
      "execution_count": 14,
      "outputs": [
        {
          "output_type": "stream",
          "name": "stdout",
          "text": [
            "    Name  Age  Salary\n",
            "0    Anu   25   55000\n",
            "1    Raj   30   60000\n",
            "2   Teja   26   40000\n",
            "3  Kiran   28   70000\n"
          ]
        }
      ]
    },
    {
      "cell_type": "markdown",
      "source": [
        "sort by columns"
      ],
      "metadata": {
        "id": "Dt_R0DEvY4VD"
      }
    },
    {
      "cell_type": "code",
      "source": [
        "#sort by age in ascending order\n",
        "print(df.sort_values(by=\"Age\"))\n",
        "\n",
        "#sort by salary in descending order\n",
        "print(df.sort_values(by=\"Salary\",ascending=False))"
      ],
      "metadata": {
        "colab": {
          "base_uri": "https://localhost:8080/"
        },
        "id": "hkATgbTbYJwW",
        "outputId": "e6268b1f-e6b5-4a46-c78e-3de7b123ee7a"
      },
      "execution_count": 15,
      "outputs": [
        {
          "output_type": "stream",
          "name": "stdout",
          "text": [
            "    Name  Age  Salary\n",
            "0    Anu   25   55000\n",
            "2   Teja   26   40000\n",
            "3  Kiran   28   70000\n",
            "1    Raj   30   60000\n",
            "    Name  Age  Salary\n",
            "3  Kiran   28   70000\n",
            "1    Raj   30   60000\n",
            "0    Anu   25   55000\n",
            "2   Teja   26   40000\n"
          ]
        }
      ]
    },
    {
      "cell_type": "markdown",
      "source": [
        "sort by multiple columns"
      ],
      "metadata": {
        "id": "Xw-kCaY6Y8vc"
      }
    },
    {
      "cell_type": "code",
      "source": [
        "print(df.sort_values(by=[\"Age\",\"Salary\"],ascending=[True,False]))"
      ],
      "metadata": {
        "colab": {
          "base_uri": "https://localhost:8080/"
        },
        "id": "UxDLjZzRY_eF",
        "outputId": "da66bea2-ea15-4ce3-a9b3-248401b05f2a"
      },
      "execution_count": 16,
      "outputs": [
        {
          "output_type": "stream",
          "name": "stdout",
          "text": [
            "    Name  Age  Salary\n",
            "0    Anu   25   55000\n",
            "2   Teja   26   40000\n",
            "3  Kiran   28   70000\n",
            "1    Raj   30   60000\n"
          ]
        }
      ]
    },
    {
      "cell_type": "markdown",
      "source": [
        "Applying Functions to data\n",
        "\n",
        "*sometimes we want to modify data using formulas or custom logic*\n",
        "\n",
        ".apply()--->column/row level,Works on DataFrame or Series.\n",
        "If used on a DataFrame → applies a function to each column or row (axis=0 for column, axis=1 for row).\n",
        "\n",
        "If used on a Series → applies the function to each element in that Series.                  \n",
        "\n",
        ".map()--->Series level(single column),Works only on Series.\n",
        "\n",
        ".applymap()--->entire DataFrame ,Works only on DataFrames."
      ],
      "metadata": {
        "id": "Hy0c8siTaPOd"
      }
    },
    {
      "cell_type": "code",
      "metadata": {
        "colab": {
          "base_uri": "https://localhost:8080/"
        },
        "id": "ccf86206",
        "outputId": "6b38e986-ce54-4080-801b-b403e69c3a8f"
      },
      "source": [
        "#Increase all salaries by 10%\n",
        "\n",
        "df[\"Salary\"]=df[\"Salary\"].apply(lambda x:x*1.10)\n",
        "print(df)\n",
        "\n",
        "# Original DataFrame (after salary increase)\n",
        "print(\"DataFrame after salary increase:\\n\", df)\n",
        "\n",
        "# Select only numeric columns for row-wise operations\n",
        "numeric_df = df[['Age', 'Salary']]\n",
        "\n",
        "# Calculate the sum of numeric columns for each row\n",
        "row_sum = numeric_df.apply(np.sum, axis=1)\n",
        "print(row_sum)\n",
        "\n",
        "column_sum=numeric_df.apply(np.sum,axis=0)\n",
        "print(column_sum)"
      ],
      "execution_count": 17,
      "outputs": [
        {
          "output_type": "stream",
          "name": "stdout",
          "text": [
            "    Name  Age   Salary\n",
            "0    Anu   25  60500.0\n",
            "1    Raj   30  66000.0\n",
            "2   Teja   26  44000.0\n",
            "3  Kiran   28  77000.0\n",
            "DataFrame after salary increase:\n",
            "     Name  Age   Salary\n",
            "0    Anu   25  60500.0\n",
            "1    Raj   30  66000.0\n",
            "2   Teja   26  44000.0\n",
            "3  Kiran   28  77000.0\n",
            "0    60525.0\n",
            "1    66030.0\n",
            "2    44026.0\n",
            "3    77028.0\n",
            "dtype: float64\n",
            "Age          109.0\n",
            "Salary    247500.0\n",
            "dtype: float64\n"
          ]
        }
      ]
    },
    {
      "cell_type": "code",
      "source": [
        "#add \"Mr./Ms.\" before each name\n",
        "df[\"Name\"]=df[\"Name\"].map(lambda x:\"Mr./Ms.\"+x)\n",
        "print(df)\n",
        "\n",
        " # Convert names to uppercase\n",
        "df[\"Name\"] = df[\"Name\"].map(str.upper)\n",
        "print(df)"
      ],
      "metadata": {
        "colab": {
          "base_uri": "https://localhost:8080/"
        },
        "id": "uStHJlPScC5B",
        "outputId": "1da2f176-b200-407a-d2f0-f68064d97ede"
      },
      "execution_count": 18,
      "outputs": [
        {
          "output_type": "stream",
          "name": "stdout",
          "text": [
            "           Name  Age   Salary\n",
            "0    Mr./Ms.Anu   25  60500.0\n",
            "1    Mr./Ms.Raj   30  66000.0\n",
            "2   Mr./Ms.Teja   26  44000.0\n",
            "3  Mr./Ms.Kiran   28  77000.0\n",
            "           Name  Age   Salary\n",
            "0    MR./MS.ANU   25  60500.0\n",
            "1    MR./MS.RAJ   30  66000.0\n",
            "2   MR./MS.TEJA   26  44000.0\n",
            "3  MR./MS.KIRAN   28  77000.0\n"
          ]
        }
      ]
    },
    {
      "cell_type": "code",
      "source": [
        "#Convert all values to string\n",
        "\n",
        "print(df.applymap(str))"
      ],
      "metadata": {
        "colab": {
          "base_uri": "https://localhost:8080/"
        },
        "id": "ojR6NHlWfGn8",
        "outputId": "8fd21f80-d904-4f7f-b861-590b586862fa"
      },
      "execution_count": 19,
      "outputs": [
        {
          "output_type": "stream",
          "name": "stdout",
          "text": [
            "           Name Age             Salary\n",
            "0    MR./MS.ANU  25  60500.00000000001\n",
            "1    MR./MS.RAJ  30            66000.0\n",
            "2   MR./MS.TEJA  26            44000.0\n",
            "3  MR./MS.KIRAN  28            77000.0\n"
          ]
        },
        {
          "output_type": "stream",
          "name": "stderr",
          "text": [
            "/tmp/ipython-input-904572409.py:3: FutureWarning: DataFrame.applymap has been deprecated. Use DataFrame.map instead.\n",
            "  print(df.applymap(str))\n"
          ]
        }
      ]
    },
    {
      "cell_type": "markdown",
      "source": [
        "**Pandas String Operations**"
      ],
      "metadata": {
        "id": "QEobSdHJf3Dq"
      }
    },
    {
      "cell_type": "code",
      "source": [
        "import pandas as pd\n",
        "\n",
        "data = {\n",
        "    \"Name\": [\"  Anu  \", \"Raj\", \"TEJA\", \"kiran\", \"Ravi Kumar\"],\n",
        "    \"City\": [\"Hyderabad\", \"chennai\", \"VIZAG\", \"mumbai\", \"HYDERABAD\"]\n",
        "}\n",
        "\n",
        "df = pd.DataFrame(data)\n",
        "print(df)"
      ],
      "metadata": {
        "colab": {
          "base_uri": "https://localhost:8080/"
        },
        "id": "nD-v2f9lf_yh",
        "outputId": "adbe4f7f-120e-4dd5-ce30-479c33d4a26f"
      },
      "execution_count": 20,
      "outputs": [
        {
          "output_type": "stream",
          "name": "stdout",
          "text": [
            "         Name       City\n",
            "0       Anu    Hyderabad\n",
            "1         Raj    chennai\n",
            "2        TEJA      VIZAG\n",
            "3       kiran     mumbai\n",
            "4  Ravi Kumar  HYDERABAD\n"
          ]
        }
      ]
    },
    {
      "cell_type": "markdown",
      "source": [
        "Common String Functions"
      ],
      "metadata": {
        "id": "UfdAGKZdgVoP"
      }
    },
    {
      "cell_type": "code",
      "source": [
        "print(df[\"Name\"].str.upper())\n",
        "print(df[\"Name\"].str.lower())\n",
        "print(df[\"Name\"].str.title())"
      ],
      "metadata": {
        "colab": {
          "base_uri": "https://localhost:8080/"
        },
        "id": "KEpjo_RtgUgf",
        "outputId": "a9732eed-a9fa-42ba-87d1-473f95fb62ff"
      },
      "execution_count": 21,
      "outputs": [
        {
          "output_type": "stream",
          "name": "stdout",
          "text": [
            "0         ANU  \n",
            "1           RAJ\n",
            "2          TEJA\n",
            "3         KIRAN\n",
            "4    RAVI KUMAR\n",
            "Name: Name, dtype: object\n",
            "0         anu  \n",
            "1           raj\n",
            "2          teja\n",
            "3         kiran\n",
            "4    ravi kumar\n",
            "Name: Name, dtype: object\n",
            "0         Anu  \n",
            "1           Raj\n",
            "2          Teja\n",
            "3         Kiran\n",
            "4    Ravi Kumar\n",
            "Name: Name, dtype: object\n"
          ]
        }
      ]
    },
    {
      "cell_type": "code",
      "source": [
        "df[\"Name\"].str.strip()\n",
        "df[\"Name\"].str.lstrip()\n",
        "df[\"Name\"].str.rstrip()\n",
        "print(df)"
      ],
      "metadata": {
        "colab": {
          "base_uri": "https://localhost:8080/"
        },
        "id": "hqNnzDtZgz-L",
        "outputId": "71e4fccc-16a6-45dc-cb8e-b147b85b52a3"
      },
      "execution_count": 22,
      "outputs": [
        {
          "output_type": "stream",
          "name": "stdout",
          "text": [
            "         Name       City\n",
            "0       Anu    Hyderabad\n",
            "1         Raj    chennai\n",
            "2        TEJA      VIZAG\n",
            "3       kiran     mumbai\n",
            "4  Ravi Kumar  HYDERABAD\n"
          ]
        }
      ]
    },
    {
      "cell_type": "code",
      "source": [
        "print(df[\"Name\"].str.len())"
      ],
      "metadata": {
        "colab": {
          "base_uri": "https://localhost:8080/"
        },
        "id": "eol12AklhKJ_",
        "outputId": "97c94e0f-32da-40bf-c408-d946818a8209"
      },
      "execution_count": 23,
      "outputs": [
        {
          "output_type": "stream",
          "name": "stdout",
          "text": [
            "0     7\n",
            "1     3\n",
            "2     4\n",
            "3     5\n",
            "4    10\n",
            "Name: Name, dtype: int64\n"
          ]
        }
      ]
    },
    {
      "cell_type": "code",
      "source": [
        "print(df[\"City\"].str.contains(\"Hyderabad\",case=False))\n",
        "print(df[\"City\"].str.startswith(\"H\"))\n",
        "print(df[\"City\"].str.endswith(\"ad\"))"
      ],
      "metadata": {
        "colab": {
          "base_uri": "https://localhost:8080/"
        },
        "id": "mIJ74wJBiG8t",
        "outputId": "226138ef-0f3d-4b11-da6b-91aae9c520e3"
      },
      "execution_count": 24,
      "outputs": [
        {
          "output_type": "stream",
          "name": "stdout",
          "text": [
            "0     True\n",
            "1    False\n",
            "2    False\n",
            "3    False\n",
            "4     True\n",
            "Name: City, dtype: bool\n",
            "0     True\n",
            "1    False\n",
            "2    False\n",
            "3    False\n",
            "4     True\n",
            "Name: City, dtype: bool\n",
            "0     True\n",
            "1    False\n",
            "2    False\n",
            "3    False\n",
            "4    False\n",
            "Name: City, dtype: bool\n"
          ]
        }
      ]
    },
    {
      "cell_type": "code",
      "source": [
        "df[\"City\"]=df[\"City\"].str.replace(\"Hyderabad\",\"HYD\",case=False)\n",
        "print(df)"
      ],
      "metadata": {
        "colab": {
          "base_uri": "https://localhost:8080/"
        },
        "id": "3je3NJkNiHO-",
        "outputId": "f281da91-07d1-47f8-f227-08d9199eabe5"
      },
      "execution_count": 25,
      "outputs": [
        {
          "output_type": "stream",
          "name": "stdout",
          "text": [
            "         Name     City\n",
            "0       Anu        HYD\n",
            "1         Raj  chennai\n",
            "2        TEJA    VIZAG\n",
            "3       kiran   mumbai\n",
            "4  Ravi Kumar      HYD\n"
          ]
        }
      ]
    },
    {
      "cell_type": "markdown",
      "source": [
        "\n",
        "**regex filtering**\n",
        "\n",
        "used with .str.contains()\n",
        "\n",
        ".str.extract()\n",
        "\n",
        ".str.replace()\n",
        "\n",
        "Useful Regex Patterns\n",
        "\n",
        "^Ra → starts with \"Ra\"\n",
        "\n",
        "a$ → ends with \"a\"\n",
        "\n",
        "[0-9]+ → numbers only\n",
        "\n",
        "[A-Za-z]{5} → exactly 5 letters\n",
        "\n",
        "\\d{10} → 10-digit number (phone)"
      ],
      "metadata": {
        "id": "gpIIfbGuFwVI"
      }
    },
    {
      "cell_type": "code",
      "source": [
        "import pandas as pd\n",
        "\n",
        "data = {\"Name\":[\"Anu\",\"Rajesh\",\"Teja\",\"Ravi\",\"Anjali\",\"Ram\"]}\n",
        "df = pd.DataFrame(data)\n",
        "\n",
        "# Names starting with 'Ra'\n",
        "print(df[df[\"Name\"].str.contains(r\"^Ra\")])\n",
        "\n",
        "# Extract only alphabets of length 3\n",
        "print(df[\"Name\"].str.extract(r\"([A-Za-z]{3})\"))\n",
        "\n",
        "# Replace all vowels with '*'\n",
        "df[\"Masked\"] = df[\"Name\"].str.replace(r\"[aeiouAEIOU]\", \"*\", regex=True)\n",
        "print(df)"
      ],
      "metadata": {
        "colab": {
          "base_uri": "https://localhost:8080/"
        },
        "id": "h57mDNiWFwjN",
        "outputId": "2f2e6bde-06b8-4220-82f8-28e246999e6d"
      },
      "execution_count": 26,
      "outputs": [
        {
          "output_type": "stream",
          "name": "stdout",
          "text": [
            "     Name\n",
            "1  Rajesh\n",
            "3    Ravi\n",
            "5     Ram\n",
            "     0\n",
            "0  Anu\n",
            "1  Raj\n",
            "2  Tej\n",
            "3  Rav\n",
            "4  Anj\n",
            "5  Ram\n",
            "     Name  Masked\n",
            "0     Anu     *n*\n",
            "1  Rajesh  R*j*sh\n",
            "2    Teja    T*j*\n",
            "3    Ravi    R*v*\n",
            "4  Anjali  *nj*l*\n",
            "5     Ram     R*m\n"
          ]
        }
      ]
    },
    {
      "cell_type": "markdown",
      "source": [
        "# **Grouping and Aggregation**\n",
        "\n",
        "---\n",
        "\n",
        "\n",
        "\n",
        "By using GroupBy method we can divide the data into groups and we can perform aggregate functions such as max,min,count,sum,avg."
      ],
      "metadata": {
        "id": "2upOITey-W7u"
      }
    },
    {
      "cell_type": "code",
      "source": [
        "import pandas as pd\n",
        "\n",
        "data = {\n",
        "    \"Name\": [\"Anu\", \"Raj\", \"Teja\", \"Kiran\", \"Ravi\", \"Pooja\"],\n",
        "    \"Department\": [\"IT\", \"HR\", \"IT\", \"Finance\", \"Finance\", \"HR\"],\n",
        "    \"Salary\": [50000, 60000, 55000, 70000, 65000, 58000],\n",
        "    \"Experience\": [2, 5, 3, 7, 4, 3]\n",
        "}\n",
        "\n",
        "df = pd.DataFrame(data)\n",
        "print(df)"
      ],
      "metadata": {
        "colab": {
          "base_uri": "https://localhost:8080/"
        },
        "id": "aCD-dG-U-uoS",
        "outputId": "5a9ee0e9-dda3-47f7-b966-5a032f044985"
      },
      "execution_count": 27,
      "outputs": [
        {
          "output_type": "stream",
          "name": "stdout",
          "text": [
            "    Name Department  Salary  Experience\n",
            "0    Anu         IT   50000           2\n",
            "1    Raj         HR   60000           5\n",
            "2   Teja         IT   55000           3\n",
            "3  Kiran    Finance   70000           7\n",
            "4   Ravi    Finance   65000           4\n",
            "5  Pooja         HR   58000           3\n"
          ]
        }
      ]
    },
    {
      "cell_type": "markdown",
      "source": [
        "Basic groupby"
      ],
      "metadata": {
        "id": "1BwHiKby_gDc"
      }
    },
    {
      "cell_type": "code",
      "source": [
        "#groupby department and get average salary\n",
        "print(df.groupby(\"Department\")[\"Salary\"].mean())\n",
        "#groupby department and get max experience\n",
        "print(df.groupby(\"Department\")[\"Experience\"].max())"
      ],
      "metadata": {
        "colab": {
          "base_uri": "https://localhost:8080/"
        },
        "id": "1gt4-VZR-6pu",
        "outputId": "9907da6f-ff66-4fc7-d5e4-03c804139dee"
      },
      "execution_count": 28,
      "outputs": [
        {
          "output_type": "stream",
          "name": "stdout",
          "text": [
            "Department\n",
            "Finance    67500.0\n",
            "HR         59000.0\n",
            "IT         52500.0\n",
            "Name: Salary, dtype: float64\n",
            "Department\n",
            "Finance    7\n",
            "HR         5\n",
            "IT         3\n",
            "Name: Experience, dtype: int64\n"
          ]
        }
      ]
    },
    {
      "cell_type": "markdown",
      "source": [
        "Multiple Aggregations"
      ],
      "metadata": {
        "id": "7RTsLVW7_jIq"
      }
    },
    {
      "cell_type": "code",
      "source": [
        "#for each department: get min,max,mean\n",
        "print(df.groupby(\"Department\")[\"Salary\"].agg([\"min\",\"max\",\"mean\"]))"
      ],
      "metadata": {
        "colab": {
          "base_uri": "https://localhost:8080/"
        },
        "id": "9BCg-F1F_nRJ",
        "outputId": "4bfb772d-bd11-480f-9de1-92e68ed7d6c0"
      },
      "execution_count": 29,
      "outputs": [
        {
          "output_type": "stream",
          "name": "stdout",
          "text": [
            "              min    max     mean\n",
            "Department                       \n",
            "Finance     65000  70000  67500.0\n",
            "HR          58000  60000  59000.0\n",
            "IT          50000  55000  52500.0\n"
          ]
        }
      ]
    },
    {
      "cell_type": "markdown",
      "source": [
        "group by multiple columns"
      ],
      "metadata": {
        "id": "X91PCCixAaG9"
      }
    },
    {
      "cell_type": "code",
      "source": [
        "print(df.groupby([\"Department\",\"Experience\"])[\"Salary\"].mean())"
      ],
      "metadata": {
        "colab": {
          "base_uri": "https://localhost:8080/"
        },
        "id": "BfQVhj65_nTP",
        "outputId": "eb05b2b5-6c51-493d-8def-31ed4026e084"
      },
      "execution_count": 30,
      "outputs": [
        {
          "output_type": "stream",
          "name": "stdout",
          "text": [
            "Department  Experience\n",
            "Finance     4             65000.0\n",
            "            7             70000.0\n",
            "HR          3             58000.0\n",
            "            5             60000.0\n",
            "IT          2             50000.0\n",
            "            3             55000.0\n",
            "Name: Salary, dtype: float64\n"
          ]
        }
      ]
    },
    {
      "cell_type": "markdown",
      "source": [
        "Reset Index"
      ],
      "metadata": {
        "id": "Vi-ZA9JIBQ5i"
      }
    },
    {
      "cell_type": "code",
      "source": [
        "result=df.groupby(\"Department\")[\"Salary\"].mean().reset_index()\n",
        "print(result)"
      ],
      "metadata": {
        "colab": {
          "base_uri": "https://localhost:8080/"
        },
        "id": "fOn0ZpjtBPq7",
        "outputId": "84eed41f-d698-4a5d-eb67-fdd3f77f6c78"
      },
      "execution_count": 31,
      "outputs": [
        {
          "output_type": "stream",
          "name": "stdout",
          "text": [
            "  Department   Salary\n",
            "0    Finance  67500.0\n",
            "1         HR  59000.0\n",
            "2         IT  52500.0\n"
          ]
        }
      ]
    },
    {
      "cell_type": "markdown",
      "source": [
        "Sorting GroupBy Result"
      ],
      "metadata": {
        "id": "_jPxzJWxB7Dj"
      }
    },
    {
      "cell_type": "code",
      "source": [
        "result=df.groupby(\"Department\")[\"Salary\"].mean().sort_values(ascending=False)\n",
        "print(result)"
      ],
      "metadata": {
        "colab": {
          "base_uri": "https://localhost:8080/"
        },
        "id": "sZo5axJACDWn",
        "outputId": "07cf959e-f014-46f7-913e-6b43e22b0c60"
      },
      "execution_count": 32,
      "outputs": [
        {
          "output_type": "stream",
          "name": "stdout",
          "text": [
            "Department\n",
            "Finance    67500.0\n",
            "HR         59000.0\n",
            "IT         52500.0\n",
            "Name: Salary, dtype: float64\n"
          ]
        }
      ]
    },
    {
      "cell_type": "markdown",
      "source": [
        "# **MERGING AND JOINING**"
      ],
      "metadata": {
        "id": "LGNofD7NW5rI"
      }
    },
    {
      "cell_type": "markdown",
      "source": [
        "Concatination---------->used to add rows/columns\n",
        "\n",
        "merge(SQL-style joins)----------->same like SQL joins\n",
        "\n",
        "join()----------->mostly works on index-based"
      ],
      "metadata": {
        "id": "yUFmVmvlCr0a"
      }
    },
    {
      "cell_type": "code",
      "source": [
        "import pandas as pd\n",
        "\n",
        "# Two DataFrames\n",
        "df1 = pd.DataFrame({\"ID\":[1,2,3], \"Name\":[\"Anu\",\"Raj\",\"Teja\"]})\n",
        "df2 = pd.DataFrame({\"ID\":[4,5], \"Name\":[\"Kiran\",\"Ravi\"]})\n",
        "\n",
        "# Row-wise (default axis=0)\n",
        "print(pd.concat([df1, df2]))\n",
        "\n",
        "# Column-wise (axis=1)\n",
        "df3 = pd.DataFrame({\"Salary\":[50000,60000,55000]})\n",
        "print(pd.concat([df1, df3], axis=1))"
      ],
      "metadata": {
        "colab": {
          "base_uri": "https://localhost:8080/"
        },
        "id": "914DGIquDGrS",
        "outputId": "3df58b4b-d24f-4603-be5a-50cdd8eedff0"
      },
      "execution_count": 33,
      "outputs": [
        {
          "output_type": "stream",
          "name": "stdout",
          "text": [
            "   ID   Name\n",
            "0   1    Anu\n",
            "1   2    Raj\n",
            "2   3   Teja\n",
            "0   4  Kiran\n",
            "1   5   Ravi\n",
            "   ID  Name  Salary\n",
            "0   1   Anu   50000\n",
            "1   2   Raj   60000\n",
            "2   3  Teja   55000\n"
          ]
        }
      ]
    },
    {
      "cell_type": "code",
      "source": [
        "df1 = pd.DataFrame({\"ID\":[1,2,3], \"Name\":[\"Anu\",\"Raj\",\"Teja\"]})\n",
        "df2 = pd.DataFrame({\"ID\":[1,2,4], \"Salary\":[50000,60000,70000]})\n",
        "\n",
        "# Inner Join (only matching IDs)\n",
        "print(pd.merge(df1, df2, on=\"ID\", how=\"inner\"))\n",
        "\n",
        "# Left Join (all from df1)\n",
        "print(pd.merge(df1, df2, on=\"ID\", how=\"left\"))\n",
        "\n",
        "# Right Join (all from df2)\n",
        "print(pd.merge(df1, df2, on=\"ID\", how=\"right\"))\n",
        "\n",
        "# Outer Join (all from both)\n",
        "print(pd.merge(df1, df2, on=\"ID\", how=\"outer\"))"
      ],
      "metadata": {
        "colab": {
          "base_uri": "https://localhost:8080/"
        },
        "id": "MFG5bCf7Dn7y",
        "outputId": "445d7c73-4091-4112-9fcc-11f5e107e1c6"
      },
      "execution_count": 34,
      "outputs": [
        {
          "output_type": "stream",
          "name": "stdout",
          "text": [
            "   ID Name  Salary\n",
            "0   1  Anu   50000\n",
            "1   2  Raj   60000\n",
            "   ID  Name   Salary\n",
            "0   1   Anu  50000.0\n",
            "1   2   Raj  60000.0\n",
            "2   3  Teja      NaN\n",
            "   ID Name  Salary\n",
            "0   1  Anu   50000\n",
            "1   2  Raj   60000\n",
            "2   4  NaN   70000\n",
            "   ID  Name   Salary\n",
            "0   1   Anu  50000.0\n",
            "1   2   Raj  60000.0\n",
            "2   3  Teja      NaN\n",
            "3   4   NaN  70000.0\n"
          ]
        }
      ]
    },
    {
      "cell_type": "code",
      "source": [
        "df1 = pd.DataFrame({\"Name\":[\"Anu\",\"Raj\",\"Teja\"]}, index=[1,2,3])\n",
        "df2 = pd.DataFrame({\"Salary\":[50000,60000,55000]}, index=[1,2,4])\n",
        "\n",
        "print(df1.join(df2, how=\"inner\"))   # only index match\n",
        "print(df1.join(df2, how=\"outer\"))   # all indexes"
      ],
      "metadata": {
        "colab": {
          "base_uri": "https://localhost:8080/"
        },
        "id": "Zha-IlpbEAuc",
        "outputId": "e056ef92-44ad-4182-83f9-c77d76b8a5b9"
      },
      "execution_count": 35,
      "outputs": [
        {
          "output_type": "stream",
          "name": "stdout",
          "text": [
            "  Name  Salary\n",
            "1  Anu   50000\n",
            "2  Raj   60000\n",
            "   Name   Salary\n",
            "1   Anu  50000.0\n",
            "2   Raj  60000.0\n",
            "3  Teja      NaN\n",
            "4   NaN  55000.0\n"
          ]
        }
      ]
    },
    {
      "cell_type": "markdown",
      "source": [
        "**Time series and date handling**"
      ],
      "metadata": {
        "id": "CpVJtsDKHMNK"
      }
    },
    {
      "cell_type": "code",
      "source": [
        "import pandas as pd\n",
        "\n",
        "data = {\"Date\":[\"2023-01-01\",\"2023-02-15\",\"2023-03-10\"],\n",
        "        \"Sales\":[100,200,150]}\n",
        "df = pd.DataFrame(data)\n",
        "\n",
        "# Convert to datetime\n",
        "df[\"Date\"] = pd.to_datetime(df[\"Date\"])\n",
        "print(df.dtypes)"
      ],
      "metadata": {
        "colab": {
          "base_uri": "https://localhost:8080/"
        },
        "id": "loWD6Q4eHU0R",
        "outputId": "c0abc8ef-4319-4467-f0a1-4696c247508b"
      },
      "execution_count": 36,
      "outputs": [
        {
          "output_type": "stream",
          "name": "stdout",
          "text": [
            "Date     datetime64[ns]\n",
            "Sales             int64\n",
            "dtype: object\n"
          ]
        }
      ]
    },
    {
      "cell_type": "markdown",
      "source": [
        "Extracting date parts"
      ],
      "metadata": {
        "id": "8lYkzv7sHm9Y"
      }
    },
    {
      "cell_type": "code",
      "source": [
        "df[\"Year\"] = df[\"Date\"].dt.year\n",
        "df[\"Month\"] = df[\"Date\"].dt.month\n",
        "df[\"Day\"] = df[\"Date\"].dt.day\n",
        "print(df)"
      ],
      "metadata": {
        "colab": {
          "base_uri": "https://localhost:8080/"
        },
        "id": "5BEsxyhlHhco",
        "outputId": "d82baa08-f3d8-423b-80cd-8aadfeba894a"
      },
      "execution_count": 37,
      "outputs": [
        {
          "output_type": "stream",
          "name": "stdout",
          "text": [
            "        Date  Sales  Year  Month  Day\n",
            "0 2023-01-01    100  2023      1    1\n",
            "1 2023-02-15    200  2023      2   15\n",
            "2 2023-03-10    150  2023      3   10\n"
          ]
        }
      ]
    },
    {
      "cell_type": "markdown",
      "source": [
        "Filtering with dates"
      ],
      "metadata": {
        "id": "dxmL2K0LH-6R"
      }
    },
    {
      "cell_type": "code",
      "source": [
        "# Sales after Feb 2023\n",
        "print(df[df[\"Date\"] > \"2023-02-01\"])\n"
      ],
      "metadata": {
        "colab": {
          "base_uri": "https://localhost:8080/"
        },
        "id": "jILt5IMFH2C5",
        "outputId": "d2a6a217-b37c-48ca-9e75-991d06789503"
      },
      "execution_count": 38,
      "outputs": [
        {
          "output_type": "stream",
          "name": "stdout",
          "text": [
            "        Date  Sales  Year  Month  Day\n",
            "1 2023-02-15    200  2023      2   15\n",
            "2 2023-03-10    150  2023      3   10\n"
          ]
        }
      ]
    },
    {
      "cell_type": "markdown",
      "source": [
        "Setting date as index"
      ],
      "metadata": {
        "id": "r965EToQIIAP"
      }
    },
    {
      "cell_type": "code",
      "source": [
        "\n",
        "df = df.set_index(\"Date\")\n",
        "print(df)"
      ],
      "metadata": {
        "colab": {
          "base_uri": "https://localhost:8080/"
        },
        "id": "Bo1wZseYIJJs",
        "outputId": "d86b76e1-d20d-437f-e123-688842c59afe"
      },
      "execution_count": 39,
      "outputs": [
        {
          "output_type": "stream",
          "name": "stdout",
          "text": [
            "            Sales  Year  Month  Day\n",
            "Date                               \n",
            "2023-01-01    100  2023      1    1\n",
            "2023-02-15    200  2023      2   15\n",
            "2023-03-10    150  2023      3   10\n"
          ]
        }
      ]
    },
    {
      "cell_type": "markdown",
      "source": [
        "**Rolling Window**-----------> sliding subset of data,on which we apply mean/sum/max etc.It handles the fluctuations smoothly."
      ],
      "metadata": {
        "id": "nrHwZZ82JEZs"
      }
    },
    {
      "cell_type": "markdown",
      "source": [],
      "metadata": {
        "id": "Yd6HlRCPSyxq"
      }
    },
    {
      "cell_type": "code",
      "source": [
        "import pandas as pd\n",
        "\n",
        "data = {\"Sales\":[100,120,130,90,150,200,170,180,160,140]}\n",
        "df = pd.DataFrame(data)\n",
        "\n",
        "# Rolling mean (3 window)\n",
        "df[\"Rolling_Mean\"] = df[\"Sales\"].rolling(window=3).mean()\n",
        "print(df)"
      ],
      "metadata": {
        "colab": {
          "base_uri": "https://localhost:8080/"
        },
        "id": "Ps1ZkZQSJVII",
        "outputId": "a8df92bc-0128-49a1-908b-39331b28167f"
      },
      "execution_count": 40,
      "outputs": [
        {
          "output_type": "stream",
          "name": "stdout",
          "text": [
            "   Sales  Rolling_Mean\n",
            "0    100           NaN\n",
            "1    120           NaN\n",
            "2    130    116.666667\n",
            "3     90    113.333333\n",
            "4    150    123.333333\n",
            "5    200    146.666667\n",
            "6    170    173.333333\n",
            "7    180    183.333333\n",
            "8    160    170.000000\n",
            "9    140    160.000000\n"
          ]
        }
      ]
    },
    {
      "cell_type": "markdown",
      "source": [
        "# **Pandas Visualization**\n",
        "\n",
        "It plots the graph based on the data(series or dataframe) by using df.plot() method.\n",
        "\n",
        "It internally uses the matplotlib\n",
        "\n",
        "In this we are going to have\n",
        "\n",
        "-->Line Plot(default) -- It deals with continuous data (sales year by year,temperature hourly)\n",
        "\n",
        "-->Barplot -- used for compare categories (population in cities)\n",
        "\n",
        "-->Histogram -- deals with distribution of values (student marks distribution,salaries in company)\n",
        "\n",
        "-->Scatterplot -- relation between 2 variables (height vs weight, sales vs profit)\n",
        "\n",
        "-->Box plot-- a quick summary of the data or to quickly see how the data is spread and if there are any unusual values(outliers)\n"
      ],
      "metadata": {
        "id": "jU_zcvvrKuG2"
      }
    },
    {
      "cell_type": "code",
      "source": [
        "import pandas as pd\n",
        "import matplotlib.pyplot as plt\n",
        "\n",
        "data = {\n",
        "    \"Year\": [2021, 2022, 2023, 2024],\n",
        "    \"Sales\": [200, 300, 400, 600],\n",
        "    \"Profit\": [50, 80, 100, 150]\n",
        "}\n",
        "df = pd.DataFrame(data)\n",
        "\n",
        "# Line plot\n",
        "df.plot(x=\"Year\", y=[\"Sales\",\"Profit\"], kind=\"line\", marker=\"o\")\n",
        "plt.title(\"Sales & Profit Trend\")\n",
        "plt.show()"
      ],
      "metadata": {
        "colab": {
          "base_uri": "https://localhost:8080/",
          "height": 472
        },
        "id": "gXdgefJKKtvi",
        "outputId": "655c4c41-71af-4ec5-91c9-f3dbee167edd"
      },
      "execution_count": 41,
      "outputs": [
        {
          "output_type": "display_data",
          "data": {
            "text/plain": [
              "<Figure size 640x480 with 1 Axes>"
            ],
            "image/png": "[encoded data removed]"
          },
          "metadata": {}
        }
      ]
    },
    {
      "cell_type": "code",
      "source": [
        "#barplot\n",
        "df.plot(x=\"Year\", y=\"Sales\", kind=\"bar\", color=\"skyblue\")\n",
        "plt.title(\"Yearly Sales\")\n",
        "plt.show()"
      ],
      "metadata": {
        "colab": {
          "base_uri": "https://localhost:8080/",
          "height": 493
        },
        "id": "lTyC7aZ_Nb4f",
        "outputId": "67dddba7-423e-4357-918b-c67bbfa910a3"
      },
      "execution_count": 42,
      "outputs": [
        {
          "output_type": "display_data",
          "data": {
            "text/plain": [
              "<Figure size 640x480 with 1 Axes>"
            ],
            "image/png": "[encoded data removed]"
          },
          "metadata": {}
        }
      ]
    },
    {
      "cell_type": "code",
      "source": [
        "#histogram\n",
        "df[\"Sales\"].plot(kind=\"hist\", bins=5, color=\"orange\", rwidth=0.8)\n",
        "plt.title(\"Sales Distribution\")\n",
        "plt.show()"
      ],
      "metadata": {
        "colab": {
          "base_uri": "https://localhost:8080/",
          "height": 452
        },
        "id": "VCjkvO68NlWj",
        "outputId": "edca55df-f487-4344-9752-326c322f9d21"
      },
      "execution_count": 43,
      "outputs": [
        {
          "output_type": "display_data",
          "data": {
            "text/plain": [
              "<Figure size 640x480 with 1 Axes>"
            ],
            "image/png": "[encoded data removed]"
          },
          "metadata": {}
        }
      ]
    },
    {
      "cell_type": "code",
      "source": [
        "#scatterplot\n",
        "df.plot(x=\"Sales\", y=\"Profit\", kind=\"scatter\", color=\"red\")\n",
        "plt.title(\"Sales vs Profit\")\n",
        "plt.show()"
      ],
      "metadata": {
        "colab": {
          "base_uri": "https://localhost:8080/",
          "height": 472
        },
        "id": "_xN_yANpNsg4",
        "outputId": "3a129bf0-ae69-420e-9e89-6944197d5de2"
      },
      "execution_count": 44,
      "outputs": [
        {
          "output_type": "display_data",
          "data": {
            "text/plain": [
              "<Figure size 640x480 with 1 Axes>"
            ],
            "image/png": "[encoded data removed]"
          },
          "metadata": {}
        }
      ]
    },
    {
      "cell_type": "code",
      "source": [
        "#boxplot\n",
        "df[[\"Sales\",\"Profit\"]].plot(kind=\"box\")\n",
        "plt.title(\"Sales & Profit Spread\")\n",
        "plt.show()"
      ],
      "metadata": {
        "colab": {
          "base_uri": "https://localhost:8080/",
          "height": 452
        },
        "id": "RIe23LGAN17k",
        "outputId": "2ff970c0-e325-4f05-e804-cf39324f92bd"
      },
      "execution_count": 45,
      "outputs": [
        {
          "output_type": "display_data",
          "data": {
            "text/plain": [
              "<Figure size 640x480 with 1 Axes>"
            ],
            "image/png": "[encoded data removed]"
          },
          "metadata": {}
        }
      ]
    }
  ]
}